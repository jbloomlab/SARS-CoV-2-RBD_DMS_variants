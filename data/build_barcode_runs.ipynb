{
 "cells": [
  {
   "cell_type": "markdown",
   "metadata": {},
   "source": [
    "# Build `barcode_runs.csv` file\n",
    "Tyler had created the file [barcode_runs_orig-names.csv](barcode_runs_orig-names.csv) where samples have a completely original name.\n",
    "This notebook makes a version of this file where the information is separated into different columns for things like the bin number, date, concentration, etc."
   ]
  },
  {
   "cell_type": "code",
   "execution_count": 1,
   "metadata": {},
   "outputs": [
    {
     "data": {
      "text/html": [
       "<table border=\"1\" class=\"dataframe\">\n",
       "  <thead>\n",
       "    <tr style=\"text-align: right;\">\n",
       "      <th></th>\n",
       "      <th>library</th>\n",
       "      <th>sample</th>\n",
       "      <th>sample_type</th>\n",
       "      <th>sort_bin</th>\n",
       "      <th>concentration</th>\n",
       "      <th>date</th>\n",
       "      <th>number_cells</th>\n",
       "      <th>R1</th>\n",
       "    </tr>\n",
       "  </thead>\n",
       "  <tbody>\n",
       "    <tr>\n",
       "      <th>0</th>\n",
       "      <td>lib1</td>\n",
       "      <td>SortSeq_bin1</td>\n",
       "      <td>SortSeq</td>\n",
       "      <td>1</td>\n",
       "      <td>NaN</td>\n",
       "      <td>200416</td>\n",
       "      <td>6600000</td>\n",
       "      <td>/shared/ngs/illumina/tstarr/200427_D00300_0952_AHFCLCBCX3/Unaligned/Project_tstarr/Sample_200416_lib1_FITCbin1/200416_lib1_FITCbin1_TGGAACAA_L001_R1_001.fastq.gz; /fh/fast/bloom_j/SR/ngs/illumina/tstarr/200427_D00300_0952_AHFCLCBCX3/Unaligned/Project_tstarr/Sample_200416_lib1_FITCbin1/200416_lib1_FITCbin1_TGGAACAA_L001_R1_002.fastq.gz; /fh/fast/bloom_j/SR/ngs/illumina/tstarr/200427_D00300_0952_AHFCLCBCX3/Unaligned/Project_tstarr/Sample_200416_lib1_FITCbin1/200416_lib1_FITCbin1_TGGAACAA_L001_R1_003.fastq.gz; /fh/fast/bloom_j/SR/ngs/illumina/tstarr/200427_D00300_0952_AHFCLCBCX3/Unaligned/Project_tstarr/Sample_200416_lib1_FITCbin1/200416_lib1_FITCbin1_TGGAACAA_L001_R1_004.fastq.gz; /fh/fast/bloom_j/SR/ngs/illumina/tstarr/200427_D00300_0952_AHFCLCBCX3/Unaligned/Project_tstarr/Sample_200416_lib1_FITCbin1/200416_lib1_FITCbin1_TGGAACAA_L001_R1_005.fastq.gz; /fh/fast/bloom_j/SR/ngs/illumina/tstarr/200427_D00300_0952_AHFCLCBCX3/Unaligned/Project_tstarr/Sample_200416_lib1_FITCbin1/200416_lib1_FITCbin1_TGGAACAA_L002_R1_001.fastq.gz; /fh/fast/bloom_j/SR/ngs/illumina/tstarr/200427_D00300_0952_AHFCLCBCX3/Unaligned/Project_tstarr/Sample_200416_lib1_FITCbin1/200416_lib1_FITCbin1_TGGAACAA_L002_R1_002.fastq.gz; /fh/fast/bloom_j/SR/ngs/illumina/tstarr/200427_D00300_0952_AHFCLCBCX3/Unaligned/Project_tstarr/Sample_200416_lib1_FITCbin1/200416_lib1_FITCbin1_TGGAACAA_L002_R1_003.fastq.gz; /fh/fast/bloom_j/SR/ngs/illumina/tstarr/200427_D00300_0952_AHFCLCBCX3/Unaligned/Project_tstarr/Sample_200416_lib1_FITCbin1/200416_lib1_FITCbin1_TGGAACAA_L002_R1_004.fastq.gz; /fh/fast/bloom_j/SR/ngs/illumina/tstarr/200427_D00300_0952_AHFCLCBCX3/Unaligned/Project_tstarr/Sample_200416_lib1_FITCbin1/200416_lib1_FITCbin1_TGGAACAA_L002_R1_005.fastq.gz</td>\n",
       "    </tr>\n",
       "    <tr>\n",
       "      <th>1</th>\n",
       "      <td>lib1</td>\n",
       "      <td>SortSeq_bin2</td>\n",
       "      <td>SortSeq</td>\n",
       "      <td>2</td>\n",
       "      <td>NaN</td>\n",
       "      <td>200416</td>\n",
       "      <td>3060000</td>\n",
       "      <td>/shared/ngs/illumina/tstarr/200427_D00300_0952_AHFCLCBCX3/Unaligned/Project_tstarr/Sample_200416_lib1_FITCbin2/200416_lib1_FITCbin2_TGGCTTCA_L001_R1_001.fastq.gz; /fh/fast/bloom_j/SR/ngs/illumina/tstarr/200427_D00300_0952_AHFCLCBCX3/Unaligned/Project_tstarr/Sample_200416_lib1_FITCbin2/200416_lib1_FITCbin2_TGGCTTCA_L001_R1_002.fastq.gz; /fh/fast/bloom_j/SR/ngs/illumina/tstarr/200427_D00300_0952_AHFCLCBCX3/Unaligned/Project_tstarr/Sample_200416_lib1_FITCbin2/200416_lib1_FITCbin2_TGGCTTCA_L002_R1_001.fastq.gz; /fh/fast/bloom_j/SR/ngs/illumina/tstarr/200427_D00300_0952_AHFCLCBCX3/Unaligned/Project_tstarr/Sample_200416_lib1_FITCbin2/200416_lib1_FITCbin2_TGGCTTCA_L002_R1_002.fastq.gz</td>\n",
       "    </tr>\n",
       "    <tr>\n",
       "      <th>2</th>\n",
       "      <td>lib1</td>\n",
       "      <td>SortSeq_bin3</td>\n",
       "      <td>SortSeq</td>\n",
       "      <td>3</td>\n",
       "      <td>NaN</td>\n",
       "      <td>200416</td>\n",
       "      <td>2511000</td>\n",
       "      <td>/shared/ngs/illumina/tstarr/200427_D00300_0952_AHFCLCBCX3/Unaligned/Project_tstarr/Sample_200416_lib1_FITCbin3/200416_lib1_FITCbin3_TGGTGGTA_L001_R1_001.fastq.gz; /shared/ngs/illumina/tstarr/200427_D00300_0952_AHFCLCBCX3/Unaligned/Project_tstarr/Sample_200416_lib1_FITCbin3/200416_lib1_FITCbin3_TGGTGGTA_L001_R1_002.fastq.gz; /shared/ngs/illumina/tstarr/200427_D00300_0952_AHFCLCBCX3/Unaligned/Project_tstarr/Sample_200416_lib1_FITCbin3/200416_lib1_FITCbin3_TGGTGGTA_L002_R1_001.fastq.gz; /shared/ngs/illumina/tstarr/200427_D00300_0952_AHFCLCBCX3/Unaligned/Project_tstarr/Sample_200416_lib1_FITCbin3/200416_lib1_FITCbin3_TGGTGGTA_L002_R1_002.fastq.gz</td>\n",
       "    </tr>\n",
       "    <tr>\n",
       "      <th>3</th>\n",
       "      <td>lib1</td>\n",
       "      <td>SortSeq_bin4</td>\n",
       "      <td>SortSeq</td>\n",
       "      <td>4</td>\n",
       "      <td>NaN</td>\n",
       "      <td>200416</td>\n",
       "      <td>2992000</td>\n",
       "      <td>/shared/ngs/illumina/tstarr/200427_D00300_0952_AHFCLCBCX3/Unaligned/Project_tstarr/Sample_200416_lib1_FITCbin4/200416_lib1_FITCbin4_TTCACGCA_L001_R1_001.fastq.gz; /shared/ngs/illumina/tstarr/200427_D00300_0952_AHFCLCBCX3/Unaligned/Project_tstarr/Sample_200416_lib1_FITCbin4/200416_lib1_FITCbin4_TTCACGCA_L001_R1_002.fastq.gz; /shared/ngs/illumina/tstarr/200427_D00300_0952_AHFCLCBCX3/Unaligned/Project_tstarr/Sample_200416_lib1_FITCbin4/200416_lib1_FITCbin4_TTCACGCA_L002_R1_001.fastq.gz; /shared/ngs/illumina/tstarr/200427_D00300_0952_AHFCLCBCX3/Unaligned/Project_tstarr/Sample_200416_lib1_FITCbin4/200416_lib1_FITCbin4_TTCACGCA_L002_R1_002.fastq.gz</td>\n",
       "    </tr>\n",
       "    <tr>\n",
       "      <th>4</th>\n",
       "      <td>lib2</td>\n",
       "      <td>SortSeq_bin1</td>\n",
       "      <td>SortSeq</td>\n",
       "      <td>1</td>\n",
       "      <td>NaN</td>\n",
       "      <td>200416</td>\n",
       "      <td>6420000</td>\n",
       "      <td>/shared/ngs/illumina/tstarr/200427_D00300_0953_BHFCMKBCX3/Unaligned/Project_tstarr/Sample_200416_lib2_FITCbin1/200416_lib2_FITCbin1_TGGAACAA_L001_R1_001.fastq.gz; /shared/ngs/illumina/tstarr/200427_D00300_0953_BHFCMKBCX3/Unaligned/Project_tstarr/Sample_200416_lib2_FITCbin1/200416_lib2_FITCbin1_TGGAACAA_L001_R1_002.fastq.gz; /shared/ngs/illumina/tstarr/200427_D00300_0953_BHFCMKBCX3/Unaligned/Project_tstarr/Sample_200416_lib2_FITCbin1/200416_lib2_FITCbin1_TGGAACAA_L001_R1_003.fastq.gz; /shared/ngs/illumina/tstarr/200427_D00300_0953_BHFCMKBCX3/Unaligned/Project_tstarr/Sample_200416_lib2_FITCbin1/200416_lib2_FITCbin1_TGGAACAA_L001_R1_004.fastq.gz; /shared/ngs/illumina/tstarr/200427_D00300_0953_BHFCMKBCX3/Unaligned/Project_tstarr/Sample_200416_lib2_FITCbin1/200416_lib2_FITCbin1_TGGAACAA_L002_R1_001.fastq.gz; /shared/ngs/illumina/tstarr/200427_D00300_0953_BHFCMKBCX3/Unaligned/Project_tstarr/Sample_200416_lib2_FITCbin1/200416_lib2_FITCbin1_TGGAACAA_L002_R1_002.fastq.gz; /shared/ngs/illumina/tstarr/200427_D00300_0953_BHFCMKBCX3/Unaligned/Project_tstarr/Sample_200416_lib2_FITCbin1/200416_lib2_FITCbin1_TGGAACAA_L002_R1_003.fastq.gz; /shared/ngs/illumina/tstarr/200427_D00300_0953_BHFCMKBCX3/Unaligned/Project_tstarr/Sample_200416_lib2_FITCbin1/200416_lib2_FITCbin1_TGGAACAA_L002_R1_004.fastq.gz</td>\n",
       "    </tr>\n",
       "  </tbody>\n",
       "</table>"
      ],
      "text/plain": [
       "<IPython.core.display.HTML object>"
      ]
     },
     "metadata": {},
     "output_type": "display_data"
    }
   ],
   "source": [
    "import numpy\n",
    "\n",
    "import pandas as pd\n",
    "\n",
    "from IPython.display import display, HTML\n",
    "\n",
    "df = (\n",
    "    pd.read_csv('barcode_runs_orig-names.csv')\n",
    "    .assign(\n",
    "        date=lambda x: x['sample'].str.split('_').str[0],\n",
    "        sample_type=lambda x: numpy.where(x['Sortseq_bin'].notnull(), 'SortSeq', 'TiteSeq'),\n",
    "        sort_bin=lambda x: x['sample'].str.extract('(\\d+)$'),\n",
    "        concentration=lambda x: x['sample'].str.extract('_s(\\d+)\\-'),\n",
    "        sample=lambda x: x['sample_type'] +\n",
    "                         numpy.where(x['concentration'].notnull(), '_' + x['concentration'], '') +\n",
    "                         '_bin' + x['sort_bin']\n",
    "        )\n",
    "    [['library', 'sample', 'sample_type', 'sort_bin', 'concentration', 'date', 'number_cells', 'R1']]\n",
    "    )\n",
    "\n",
    "assert len(df.groupby(['library', 'sample'])) == len(df)\n",
    "\n",
    "df.to_csv('barcode_runs.csv', index=False)\n",
    "\n",
    "display(HTML(df.head().to_html()))"
   ]
  },
  {
   "cell_type": "code",
   "execution_count": null,
   "metadata": {},
   "outputs": [],
   "source": []
  }
 ],
 "metadata": {
  "kernelspec": {
   "display_name": "Python 3",
   "language": "python",
   "name": "python3"
  },
  "language_info": {
   "codemirror_mode": {
    "name": "ipython",
    "version": 3
   },
   "file_extension": ".py",
   "mimetype": "text/x-python",
   "name": "python",
   "nbconvert_exporter": "python",
   "pygments_lexer": "ipython3",
   "version": "3.7.6"
  }
 },
 "nbformat": 4,
 "nbformat_minor": 4
}
